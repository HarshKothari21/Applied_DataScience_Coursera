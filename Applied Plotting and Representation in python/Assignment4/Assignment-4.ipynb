{
 "cells": [
  {
   "cell_type": "code",
   "execution_count": 79,
   "metadata": {},
   "outputs": [
    {
     "name": "stderr",
     "output_type": "stream",
     "text": [
      "C:\\Users\\prachi\\Anaconda3\\lib\\site-packages\\statsmodels\\tools\\_testing.py:19: FutureWarning: pandas.util.testing is deprecated. Use the functions in the public API at pandas.testing instead.\n",
      "  import pandas.util.testing as tm\n"
     ]
    }
   ],
   "source": [
    "import pandas as pd\n",
    "import numpy as np\n",
    "import matplotlib.pyplot as plt\n",
    "import seaborn as sns\n",
    "\n",
    "%matplotlib inline"
   ]
  },
  {
   "cell_type": "code",
   "execution_count": 82,
   "metadata": {},
   "outputs": [],
   "source": [
    "df = pd.read_csv('UNdata_Export_20200609_151113173.csv')"
   ]
  },
  {
   "cell_type": "code",
   "execution_count": 86,
   "metadata": {
    "scrolled": true
   },
   "outputs": [
    {
     "data": {
      "text/html": [
       "<div>\n",
       "<style scoped>\n",
       "    .dataframe tbody tr th:only-of-type {\n",
       "        vertical-align: middle;\n",
       "    }\n",
       "\n",
       "    .dataframe tbody tr th {\n",
       "        vertical-align: top;\n",
       "    }\n",
       "\n",
       "    .dataframe thead th {\n",
       "        text-align: right;\n",
       "    }\n",
       "</style>\n",
       "<table border=\"1\" class=\"dataframe\">\n",
       "  <thead>\n",
       "    <tr style=\"text-align: right;\">\n",
       "      <th></th>\n",
       "      <th>Country or Area</th>\n",
       "      <th>Year</th>\n",
       "      <th>Area</th>\n",
       "      <th>Sex</th>\n",
       "      <th>Age</th>\n",
       "      <th>Cause of death (WHO)</th>\n",
       "      <th>Record Type</th>\n",
       "      <th>Reliability</th>\n",
       "      <th>Source Year</th>\n",
       "      <th>Value</th>\n",
       "      <th>Value Footnotes</th>\n",
       "    </tr>\n",
       "  </thead>\n",
       "  <tbody>\n",
       "    <tr>\n",
       "      <th>0</th>\n",
       "      <td>United States of America</td>\n",
       "      <td>2015</td>\n",
       "      <td>Total</td>\n",
       "      <td>Male</td>\n",
       "      <td>Total</td>\n",
       "      <td>Certain infectious and parasitic diseases, ICD10</td>\n",
       "      <td>Data tabulated by year of occurrence</td>\n",
       "      <td>Final figure, complete</td>\n",
       "      <td>2018</td>\n",
       "      <td>37156</td>\n",
       "      <td>NaN</td>\n",
       "    </tr>\n",
       "    <tr>\n",
       "      <th>1</th>\n",
       "      <td>United States of America</td>\n",
       "      <td>2015</td>\n",
       "      <td>Total</td>\n",
       "      <td>Male</td>\n",
       "      <td>Total</td>\n",
       "      <td>Intestinal infectious diseases, ICD10</td>\n",
       "      <td>Data tabulated by year of occurrence</td>\n",
       "      <td>Final figure, complete</td>\n",
       "      <td>2018</td>\n",
       "      <td>4070</td>\n",
       "      <td>NaN</td>\n",
       "    </tr>\n",
       "    <tr>\n",
       "      <th>2</th>\n",
       "      <td>United States of America</td>\n",
       "      <td>2015</td>\n",
       "      <td>Total</td>\n",
       "      <td>Male</td>\n",
       "      <td>Total</td>\n",
       "      <td>Tuberculosis, ICD10</td>\n",
       "      <td>Data tabulated by year of occurrence</td>\n",
       "      <td>Final figure, complete</td>\n",
       "      <td>2018</td>\n",
       "      <td>307</td>\n",
       "      <td>NaN</td>\n",
       "    </tr>\n",
       "    <tr>\n",
       "      <th>3</th>\n",
       "      <td>United States of America</td>\n",
       "      <td>2015</td>\n",
       "      <td>Total</td>\n",
       "      <td>Male</td>\n",
       "      <td>Total</td>\n",
       "      <td>Tetanus, ICD10</td>\n",
       "      <td>Data tabulated by year of occurrence</td>\n",
       "      <td>Final figure, complete</td>\n",
       "      <td>2018</td>\n",
       "      <td>1</td>\n",
       "      <td>NaN</td>\n",
       "    </tr>\n",
       "    <tr>\n",
       "      <th>4</th>\n",
       "      <td>United States of America</td>\n",
       "      <td>2015</td>\n",
       "      <td>Total</td>\n",
       "      <td>Male</td>\n",
       "      <td>Total</td>\n",
       "      <td>Diphtheria, ICD10</td>\n",
       "      <td>Data tabulated by year of occurrence</td>\n",
       "      <td>Final figure, complete</td>\n",
       "      <td>2018</td>\n",
       "      <td>0</td>\n",
       "      <td>NaN</td>\n",
       "    </tr>\n",
       "  </tbody>\n",
       "</table>\n",
       "</div>"
      ],
      "text/plain": [
       "            Country or Area  Year   Area   Sex    Age  \\\n",
       "0  United States of America  2015  Total  Male  Total   \n",
       "1  United States of America  2015  Total  Male  Total   \n",
       "2  United States of America  2015  Total  Male  Total   \n",
       "3  United States of America  2015  Total  Male  Total   \n",
       "4  United States of America  2015  Total  Male  Total   \n",
       "\n",
       "                               Cause of death (WHO)  \\\n",
       "0  Certain infectious and parasitic diseases, ICD10   \n",
       "1             Intestinal infectious diseases, ICD10   \n",
       "2                               Tuberculosis, ICD10   \n",
       "3                                    Tetanus, ICD10   \n",
       "4                                 Diphtheria, ICD10   \n",
       "\n",
       "                            Record Type             Reliability  Source Year  \\\n",
       "0  Data tabulated by year of occurrence  Final figure, complete         2018   \n",
       "1  Data tabulated by year of occurrence  Final figure, complete         2018   \n",
       "2  Data tabulated by year of occurrence  Final figure, complete         2018   \n",
       "3  Data tabulated by year of occurrence  Final figure, complete         2018   \n",
       "4  Data tabulated by year of occurrence  Final figure, complete         2018   \n",
       "\n",
       "   Value  Value Footnotes  \n",
       "0  37156              NaN  \n",
       "1   4070              NaN  \n",
       "2    307              NaN  \n",
       "3      1              NaN  \n",
       "4      0              NaN  "
      ]
     },
     "execution_count": 86,
     "metadata": {},
     "output_type": "execute_result"
    }
   ],
   "source": [
    "df.head()"
   ]
  },
  {
   "cell_type": "code",
   "execution_count": 96,
   "metadata": {},
   "outputs": [],
   "source": [
    "df = df[df.Sex.isin(['Male', 'Female'])]"
   ]
  },
  {
   "cell_type": "code",
   "execution_count": 97,
   "metadata": {},
   "outputs": [
    {
     "data": {
      "text/plain": [
       "<matplotlib.axes._subplots.AxesSubplot at 0x1dc3f3d8ef0>"
      ]
     },
     "execution_count": 97,
     "metadata": {},
     "output_type": "execute_result"
    },
    {
     "data": {
      "image/png": "[encoded data removed]",
      "text/plain": [
       "<Figure size 432x288 with 1 Axes>"
      ]
     },
     "metadata": {},
     "output_type": "display_data"
    }
   ],
   "source": [
    "df['Source Year'].value_counts().plot(kind='bar')"
   ]
  },
  {
   "cell_type": "code",
   "execution_count": 163,
   "metadata": {},
   "outputs": [
    {
     "data": {
      "image/png": "[encoded data removed]",
      "text/plain": [
       "<Figure size 576x360 with 1 Axes>"
      ]
     },
     "metadata": {},
     "output_type": "display_data"
    }
   ],
   "source": [
    "plt.figure(figsize=(8,5))\n",
    "sns.set_style('white')\n",
    "\n",
    "ax = sns.countplot(x='Source Year', hue='Sex', data=df, \n",
    "                   palette=\"Set2\", \n",
    "                   order=df['Source Year'].value_counts().index)\n",
    "\n",
    "plt.figtext(.5,.9,'Number of Deaths per \\nYear in United States', fontsize=20, ha='center', alpha=0.7)\n",
    "plt.tick_params(top=False, bottom=False, left=False, right=False, labelleft=False, labelbottom=True)\n",
    "plt.xlabel('')\n",
    "plt.ylabel('')\n",
    "plt.legend(fontsize=15, loc='best')\n",
    "\n",
    "for spine in plt.gca().spines.values():\n",
    "    spine.set_visible(False)\n",
    "for bar in ax.patches:\n",
    "    height = bar.get_height()\n",
    "    plt.gca().text(bar.get_x() + bar.get_width()/2, bar.get_height() - 5, str(int(height)), \n",
    "                 ha='center', color='black', fontsize=11, alpha=0.7)"
   ]
  }
 ],
 "metadata": {
  "kernelspec": {
   "display_name": "Python 3",
   "language": "python",
   "name": "python3"
  },
  "language_info": {
   "codemirror_mode": {
    "name": "ipython",
    "version": 3
   },
   "file_extension": ".py",
   "mimetype": "text/x-python",
   "name": "python",
   "nbconvert_exporter": "python",
   "pygments_lexer": "ipython3",
   "version": "3.6.8"
  }
 },
 "nbformat": 4,
 "nbformat_minor": 2
}
