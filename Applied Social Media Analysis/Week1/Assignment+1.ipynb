{
 "cells": [
  {
   "cell_type": "markdown",
   "metadata": {},
   "source": [
    "---\n",
    "\n",
    "_You are currently looking at **version 1.1** of this notebook. To download notebooks and datafiles, as well as get help on Jupyter notebooks in the Coursera platform, visit the [Jupyter Notebook FAQ](https://www.coursera.org/learn/python-social-network-analysis/resources/yPcBs) course resource._\n",
    "\n",
    "---"
   ]
  },
  {
   "cell_type": "markdown",
   "metadata": {},
   "source": [
    "# Assignment 1 - Creating and Manipulating Graphs\n",
    "\n",
    "Eight employees at a small company were asked to choose 3 movies that they would most enjoy watching for the upcoming company movie night. These choices are stored in the file `Employee_Movie_Choices.txt`.\n",
    "\n",
    "A second file, `Employee_Relationships.txt`, has data on the relationships between different coworkers. \n",
    "\n",
    "The relationship score has value of `-100` (Enemies) to `+100` (Best Friends). A value of zero means the two employees haven't interacted or are indifferent.\n",
    "\n",
    "Both files are tab delimited."
   ]
  },
  {
   "cell_type": "code",
   "execution_count": 1,
   "metadata": {
    "collapsed": true
   },
   "outputs": [],
   "source": [
    "import networkx as nx\n",
    "import pandas as pd\n",
    "import numpy as np\n",
    "from networkx.algorithms import bipartite\n",
    "\n",
    "\n",
    "# This is the set of employees\n",
    "employees = set(['Pablo',\n",
    "                 'Lee',\n",
    "                 'Georgia',\n",
    "                 'Vincent',\n",
    "                 'Andy',\n",
    "                 'Frida',\n",
    "                 'Joan',\n",
    "                 'Claude'])\n",
    "\n",
    "# This is the set of movies\n",
    "movies = set(['The Shawshank Redemption',\n",
    "              'Forrest Gump',\n",
    "              'The Matrix',\n",
    "              'Anaconda',\n",
    "              'The Social Network',\n",
    "              'The Godfather',\n",
    "              'Monty Python and the Holy Grail',\n",
    "              'Snakes on a Plane',\n",
    "              'Kung Fu Panda',\n",
    "              'The Dark Knight',\n",
    "              'Mean Girls'])\n",
    "\n",
    "\n",
    "# you can use the following function to plot graphs\n",
    "# make sure to comment it out before submitting to the autograder\n",
    "def plot_graph(G, weight_name=None):\n",
    "    '''\n",
    "    G: a networkx G\n",
    "    weight_name: name of the attribute for plotting edge weights (if G is weighted)\n",
    "    '''\n",
    "    %matplotlib notebook\n",
    "    import matplotlib.pyplot as plt\n",
    "    \n",
    "    plt.figure()\n",
    "    pos = nx.spring_layout(G)\n",
    "    edges = G.edges()\n",
    "    weights = None\n",
    "    \n",
    "    if weight_name:\n",
    "        weights = [int(G[u][v][weight_name]) for u,v in edges]\n",
    "        labels = nx.get_edge_attributes(G,weight_name)\n",
    "        nx.draw_networkx_edge_labels(G,pos,edge_labels=labels)\n",
    "        nx.draw_networkx(G, pos, edges=edges, width=weights);\n",
    "    else:\n",
    "        nx.draw_networkx(G, pos, edges=edges);"
   ]
  },
  {
   "cell_type": "markdown",
   "metadata": {},
   "source": [
    "### Question 1\n",
    "\n",
    "Using NetworkX, load in the bipartite graph from `Employee_Movie_Choices.txt` and return that graph.\n",
    "\n",
    "*This function should return a networkx graph with 19 nodes and 24 edges*"
   ]
  },
  {
   "cell_type": "code",
   "execution_count": 4,
   "metadata": {
    "collapsed": true
   },
   "outputs": [],
   "source": [
    "def answer_one():\n",
    "    with open('Employee_Movie_Choices.txt', 'r') as f:\n",
    "        network_data = f.readlines()\n",
    "    network_data = network_data[1:]\n",
    "    nodes_l = [i.split('\\t')[0] for i in network_data]\n",
    "    nodes_r = [i.split('\\t')[1][:-1] for i in network_data]\n",
    "    edges = []\n",
    "    for i,j in zip(nodes_l, nodes_r):\n",
    "        edges.append((i,j))\n",
    "    B = nx.Graph()\n",
    "    B.add_nodes_from(nodes_l, bipartite = 0)\n",
    "    B.add_nodes_from(nodes_r, bipartite = 1)\n",
    "    B.add_edges_from(edges)\n",
    "    return B"
   ]
  },
  {
   "cell_type": "code",
   "execution_count": 5,
   "metadata": {},
   "outputs": [
    {
     "data": {
      "text/plain": [
       "<networkx.classes.graph.Graph at 0x7fb1e32f9470>"
      ]
     },
     "execution_count": 5,
     "metadata": {},
     "output_type": "execute_result"
    }
   ],
   "source": [
    "answer_one()"
   ]
  },
  {
   "cell_type": "markdown",
   "metadata": {},
   "source": [
    "### Question 2\n",
    "\n",
    "Using the graph from the previous question, add nodes attributes named `'type'` where movies have the value `'movie'` and employees have the value `'employee'` and return that graph.\n",
    "\n",
    "*This function should return a networkx graph with node attributes `{'type': 'movie'}` or `{'type': 'employee'}`*"
   ]
  },
  {
   "cell_type": "code",
   "execution_count": 9,
   "metadata": {},
   "outputs": [
    {
     "data": {
      "text/plain": [
       "[('Andy', {'bipartite': 0, 'type': 'movie'}),\n",
       " ('Claude', {'bipartite': 0, 'type': 'movie'}),\n",
       " ('Frida', {'bipartite': 0, 'type': 'movie'}),\n",
       " ('Georgia', {'bipartite': 0, 'type': 'movie'}),\n",
       " ('Joan', {'bipartite': 0, 'type': 'movie'}),\n",
       " ('Lee', {'bipartite': 0, 'type': 'movie'}),\n",
       " ('Pablo', {'bipartite': 0, 'type': 'movie'}),\n",
       " ('Vincent', {'bipartite': 0, 'type': 'movie'}),\n",
       " ('Anaconda', {'bipartite': 1, 'type': 'movie'}),\n",
       " ('Mean Girls', {'bipartite': 1, 'type': 'movie'}),\n",
       " ('The Matrix', {'bipartite': 1, 'type': 'movie'}),\n",
       " ('Monty Python and the Holy Grail', {'bipartite': 1, 'type': 'movie'}),\n",
       " ('Snakes on a Plane', {'bipartite': 1, 'type': 'movie'}),\n",
       " ('The Shawshank Redemption', {'bipartite': 1, 'type': 'movie'}),\n",
       " ('The Social Network', {'bipartite': 1, 'type': 'movie'}),\n",
       " ('Forrest Gump', {'bipartite': 1, 'type': 'movie'}),\n",
       " ('Kung Fu Panda', {'bipartite': 1, 'type': 'movie'}),\n",
       " ('The Dark Knight', {'bipartite': 1, 'type': 'movie'}),\n",
       " ('The Godfather', {'bipartite': 1, 'type': 'movie'})]"
      ]
     },
     "execution_count": 9,
     "metadata": {},
     "output_type": "execute_result"
    }
   ],
   "source": [
    "def answer_two():\n",
    "    a_2 = answer_one()\n",
    "    for i in a_2.nodes(data=True):\n",
    "        if i[1]['bipartite'] == 0:\n",
    "            nx.set_node_attributes(a_2, 'type', 'employee')\n",
    "        if i[1]['bipartite'] == 1:\n",
    "            nx.set_node_attributes(a_2, 'type', 'movie')\n",
    "    return a_2\n",
    "\n",
    "answer_two().nodes(data=True)"
   ]
  },
  {
   "cell_type": "markdown",
   "metadata": {
    "collapsed": true
   },
   "source": [
    "### Question 3\n",
    "\n",
    "Find a weighted projection of the graph from `answer_two` which tells us how many movies different pairs of employees have in common.\n",
    "\n",
    "*This function should return a weighted projected graph.*"
   ]
  },
  {
   "cell_type": "code",
   "execution_count": 10,
   "metadata": {
    "collapsed": true
   },
   "outputs": [],
   "source": [
    "def answer_three():\n",
    "    a_3 = answer_two()\n",
    "    weighted_p_graph = bipartite.weighted_projected_graph(a_3, employees)\n",
    "    return weighted_p_graph"
   ]
  },
  {
   "cell_type": "markdown",
   "metadata": {
    "collapsed": true
   },
   "source": [
    "### Question 4\n",
    "\n",
    "Suppose you'd like to find out if people that have a high relationship score also like the same types of movies.\n",
    "\n",
    "Find the Pearson correlation ( using `DataFrame.corr()` ) between employee relationship scores and the number of movies they have in common. If two employees have no movies in common it should be treated as a 0, not a missing value, and should be included in the correlation calculation.\n",
    "\n",
    "*This function should return a float.*"
   ]
  },
  {
   "cell_type": "code",
   "execution_count": 11,
   "metadata": {
    "collapsed": true
   },
   "outputs": [],
   "source": [
    "def answer_four():\n",
    "    def q3_df():\n",
    "        a_3 = answer_three().edges(data=True)\n",
    "        a_3_df = []\n",
    "        s_names = []\n",
    "        \n",
    "        for i in a_3:\n",
    "            s_names.append(sorted([i[0], i[1]]))\n",
    "        \n",
    "        for i,j in zip(a_3, s_names):\n",
    "            a_3_df.append({'name1' : j[0],\n",
    "                           'name2' : j[1],\n",
    "                           'movies' : i[2]['weight']})\n",
    "            \n",
    "            df = pd.DataFrame(a_3_df)\n",
    "        return df\n",
    "    \n",
    "    def q4_df():\n",
    "        a_4 = answer_three()\n",
    "        with open('Employee_Relationships.txt', 'r') as f:\n",
    "            relationship_scores = f.readlines()\n",
    "        a_4_df = []\n",
    "        for i in relationship_scores:\n",
    "            a_4_df.append({'name1' : i.split('\\t')[0],\n",
    "                                          'name2' : i.split('\\t')[1],\n",
    "                                          'score' : i.split('\\t')[2].split('\\n')[0]})\n",
    "        df = pd.DataFrame(a_4_df)\n",
    "        return df\n",
    "    \n",
    "    q3_df = q3_df()\n",
    "    q4_df = q4_df()\n",
    "    q4_df = q4_df.merge(q3_df, how = 'outer')\n",
    "    q4_df = q4_df.set_index(['name1', 'name2'])\n",
    "    q4_df = q4_df.fillna(value=0)\n",
    "    q4_df['score'] = q4_df['score'].astype(int)\n",
    "    \n",
    "    resulted_df = q4_df.corr()\n",
    "    resulted_cell = float(resulted_df.iloc[1][0])\n",
    "    return resulted_cell"
   ]
  }
 ],
 "metadata": {
  "coursera": {
   "course_slug": "python-social-network-analysis",
   "graded_item_id": "YNa9b",
   "launcher_item_id": "hvNc1",
   "part_id": "VbyiB"
  },
  "kernelspec": {
   "display_name": "Python 3",
   "language": "python",
   "name": "python3"
  },
  "language_info": {
   "codemirror_mode": {
    "name": "ipython",
    "version": 3
   },
   "file_extension": ".py",
   "mimetype": "text/x-python",
   "name": "python",
   "nbconvert_exporter": "python",
   "pygments_lexer": "ipython3",
   "version": "3.6.2"
  }
 },
 "nbformat": 4,
 "nbformat_minor": 2
}
